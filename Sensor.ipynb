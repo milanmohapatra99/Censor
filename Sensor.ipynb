{
 "cells": [
  {
   "cell_type": "markdown",
   "id": "553644b4",
   "metadata": {},
   "source": [
    "Q. A file contains a word \"Donkey\" multiple times.You need to write a program which replace this word with ###### by updating the same file."
   ]
  },
  {
   "cell_type": "code",
   "execution_count": 1,
   "id": "f676c716",
   "metadata": {},
   "outputs": [],
   "source": [
    "with open(\"sample.txt\")as f:\n",
    "    content = f.read()\n",
    "content = content.replace(\"donkey\",\"#######\")\n",
    "with open(\"sample.txt\",\"w\")as f:\n",
    "    content = f.write(content)"
   ]
  },
  {
   "cell_type": "code",
   "execution_count": null,
   "id": "acc5ba76",
   "metadata": {},
   "outputs": [],
   "source": []
  }
 ],
 "metadata": {
  "kernelspec": {
   "display_name": "Python 3 (ipykernel)",
   "language": "python",
   "name": "python3"
  },
  "language_info": {
   "codemirror_mode": {
    "name": "ipython",
    "version": 3
   },
   "file_extension": ".py",
   "mimetype": "text/x-python",
   "name": "python",
   "nbconvert_exporter": "python",
   "pygments_lexer": "ipython3",
   "version": "3.9.7"
  }
 },
 "nbformat": 4,
 "nbformat_minor": 5
}
